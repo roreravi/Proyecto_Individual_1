{
 "cells": [
  {
   "cell_type": "markdown",
   "metadata": {},
   "source": [
    "importamos las librerias"
   ]
  },
  {
   "cell_type": "code",
   "execution_count": 1,
   "metadata": {},
   "outputs": [],
   "source": [
    "\n",
    "import pandas as pd\n",
    "import sqlite3\n",
    "import json\n",
    "import requests\n"
   ]
  },
  {
   "cell_type": "markdown",
   "metadata": {},
   "source": [
    "conectamos con la base de datos creada en sqlitebrowser"
   ]
  },
  {
   "cell_type": "code",
   "execution_count": 2,
   "metadata": {},
   "outputs": [],
   "source": [
    "conn = sqlite3.connect(\"f2.db\")"
   ]
  },
  {
   "cell_type": "markdown",
   "metadata": {},
   "source": [
    "ahora ingesto la data en dataframes para revisarla"
   ]
  },
  {
   "cell_type": "code",
   "execution_count": 3,
   "metadata": {},
   "outputs": [],
   "source": [
    "d1 = pd.read_csv(\"data/circuits.csv\")\n",
    "d2 = pd.read_csv(\"data/constructors.csv\")\n",
    "d3 = pd.read_csv(\"data/drivers.csv\")\n",
    "d4 = pd.read_csv(\"data/lap_times.csv\")\n",
    "d5 = pd.read_csv(\"data/pit_stops.csv\")\n",
    "d6 = pd.read_csv(\"data/qualifying.csv\")\n",
    "d7 = pd.read_csv(\"data/races.csv\")\n",
    "d8 = pd.read_csv(\"data/results.csv\")"
   ]
  },
  {
   "cell_type": "markdown",
   "metadata": {},
   "source": [
    "hacemos .info para ver datos faltantes"
   ]
  },
  {
   "cell_type": "code",
   "execution_count": 11,
   "metadata": {},
   "outputs": [
    {
     "name": "stdout",
     "output_type": "stream",
     "text": [
      "<class 'pandas.core.frame.DataFrame'>\n",
      "RangeIndex: 25660 entries, 0 to 25659\n",
      "Data columns (total 18 columns):\n",
      " #   Column           Non-Null Count  Dtype  \n",
      "---  ------           --------------  -----  \n",
      " 0   resultId         25660 non-null  int64  \n",
      " 1   raceId           25660 non-null  int64  \n",
      " 2   driverId         25660 non-null  int64  \n",
      " 3   constructorId    25660 non-null  int64  \n",
      " 4   number           25660 non-null  object \n",
      " 5   grid             25660 non-null  int64  \n",
      " 6   position         25660 non-null  object \n",
      " 7   positionText     25660 non-null  object \n",
      " 8   positionOrder    25660 non-null  int64  \n",
      " 9   points           25660 non-null  float64\n",
      " 10  laps             25660 non-null  int64  \n",
      " 11  time             25660 non-null  object \n",
      " 12  milliseconds     25660 non-null  object \n",
      " 13  fastestLap       25660 non-null  object \n",
      " 14  rank             25660 non-null  object \n",
      " 15  fastestLapTime   25660 non-null  object \n",
      " 16  fastestLapSpeed  25660 non-null  object \n",
      " 17  statusId         25660 non-null  int64  \n",
      "dtypes: float64(1), int64(8), object(9)\n",
      "memory usage: 3.5+ MB\n"
     ]
    }
   ],
   "source": [
    "d8.info()"
   ]
  },
  {
   "cell_type": "markdown",
   "metadata": {},
   "source": [
    "ahora llenamos las tablas"
   ]
  },
  {
   "cell_type": "code",
   "execution_count": 15,
   "metadata": {},
   "outputs": [
    {
     "data": {
      "text/plain": [
       "25660"
      ]
     },
     "execution_count": 15,
     "metadata": {},
     "output_type": "execute_result"
    }
   ],
   "source": [
    "d1.to_sql(\"circuits\", conn)\n",
    "d2.to_sql(\"constructors\", conn)\n",
    "d3.to_sql(\"drivers\", conn)\n",
    "d4.to_sql(\"lap_times\", conn)\n",
    "d5.to_sql(\"pit_stops\", conn)\n",
    "d6.to_sql(\"qualifying\", conn)\n",
    "d7.to_sql(\"races\", conn)\n",
    "d8.to_sql(\"results\", conn)\n"
   ]
  },
  {
   "cell_type": "markdown",
   "metadata": {},
   "source": [
    "establezco las relaciones y resuelvo otros detalles en sqlitebrowser"
   ]
  },
  {
   "cell_type": "markdown",
   "metadata": {},
   "source": [
    "ahora comienzo con las querys (Luego las resuelvo con FastAPI)"
   ]
  },
  {
   "cell_type": "markdown",
   "metadata": {},
   "source": [
    "1 Año con mas Carreras"
   ]
  },
  {
   "cell_type": "code",
   "execution_count": 5,
   "metadata": {},
   "outputs": [
    {
     "data": {
      "text/html": [
       "<div>\n",
       "<style scoped>\n",
       "    .dataframe tbody tr th:only-of-type {\n",
       "        vertical-align: middle;\n",
       "    }\n",
       "\n",
       "    .dataframe tbody tr th {\n",
       "        vertical-align: top;\n",
       "    }\n",
       "\n",
       "    .dataframe thead th {\n",
       "        text-align: right;\n",
       "    }\n",
       "</style>\n",
       "<table border=\"1\" class=\"dataframe\">\n",
       "  <thead>\n",
       "    <tr style=\"text-align: right;\">\n",
       "      <th></th>\n",
       "      <th>Year</th>\n",
       "      <th>Races for Year</th>\n",
       "    </tr>\n",
       "  </thead>\n",
       "  <tbody>\n",
       "    <tr>\n",
       "      <th>0</th>\n",
       "      <td>2022</td>\n",
       "      <td>22</td>\n",
       "    </tr>\n",
       "    <tr>\n",
       "      <th>1</th>\n",
       "      <td>2021</td>\n",
       "      <td>22</td>\n",
       "    </tr>\n",
       "  </tbody>\n",
       "</table>\n",
       "</div>"
      ],
      "text/plain": [
       "   Year  Races for Year\n",
       "0  2022              22\n",
       "1  2021              22"
      ]
     },
     "execution_count": 5,
     "metadata": {},
     "output_type": "execute_result"
    }
   ],
   "source": [
    "year_max = pd.read_sql('select r.year as \"Year\", count(r.raceId) as \"Races for Year\" from races r group by \"Year\" order by \"Races for Year\" desc limit 2;', conn)\n",
    "year_max\n"
   ]
  },
  {
   "cell_type": "markdown",
   "metadata": {},
   "source": [
    "2. Piloto con mayor cantidad de primeros puestos"
   ]
  },
  {
   "cell_type": "code",
   "execution_count": 18,
   "metadata": {},
   "outputs": [
    {
     "data": {
      "text/html": [
       "<div>\n",
       "<style scoped>\n",
       "    .dataframe tbody tr th:only-of-type {\n",
       "        vertical-align: middle;\n",
       "    }\n",
       "\n",
       "    .dataframe tbody tr th {\n",
       "        vertical-align: top;\n",
       "    }\n",
       "\n",
       "    .dataframe thead th {\n",
       "        text-align: right;\n",
       "    }\n",
       "</style>\n",
       "<table border=\"1\" class=\"dataframe\">\n",
       "  <thead>\n",
       "    <tr style=\"text-align: right;\">\n",
       "      <th></th>\n",
       "      <th>Name</th>\n",
       "      <th>Races Won</th>\n",
       "    </tr>\n",
       "  </thead>\n",
       "  <tbody>\n",
       "    <tr>\n",
       "      <th>0</th>\n",
       "      <td>Lewis Hamilton</td>\n",
       "      <td>103</td>\n",
       "    </tr>\n",
       "  </tbody>\n",
       "</table>\n",
       "</div>"
      ],
      "text/plain": [
       "             Name  Races Won\n",
       "0  Lewis Hamilton        103"
      ]
     },
     "execution_count": 18,
     "metadata": {},
     "output_type": "execute_result"
    }
   ],
   "source": [
    "rawd_top = pd.read_sql('select (\"forename\" || \" \" || \"surname\") as \"Name\", count(r.driverId) as \"Races Won\" from drivers d, results r where r.driverId = d.driverId and r.position = 1 group by \"Name\" order by \"Races Won\" desc limit 1;', conn)\n",
    "rawd_top"
   ]
  },
  {
   "cell_type": "markdown",
   "metadata": {},
   "source": [
    "3. Nombre del circuito mas corrido"
   ]
  },
  {
   "cell_type": "code",
   "execution_count": 21,
   "metadata": {},
   "outputs": [
    {
     "data": {
      "text/html": [
       "<div>\n",
       "<style scoped>\n",
       "    .dataframe tbody tr th:only-of-type {\n",
       "        vertical-align: middle;\n",
       "    }\n",
       "\n",
       "    .dataframe tbody tr th {\n",
       "        vertical-align: top;\n",
       "    }\n",
       "\n",
       "    .dataframe thead th {\n",
       "        text-align: right;\n",
       "    }\n",
       "</style>\n",
       "<table border=\"1\" class=\"dataframe\">\n",
       "  <thead>\n",
       "    <tr style=\"text-align: right;\">\n",
       "      <th></th>\n",
       "      <th>Circuit Name</th>\n",
       "      <th>Races Hosted</th>\n",
       "    </tr>\n",
       "  </thead>\n",
       "  <tbody>\n",
       "    <tr>\n",
       "      <th>0</th>\n",
       "      <td>Autodromo Nazionale di Monza</td>\n",
       "      <td>72</td>\n",
       "    </tr>\n",
       "  </tbody>\n",
       "</table>\n",
       "</div>"
      ],
      "text/plain": [
       "                   Circuit Name  Races Hosted\n",
       "0  Autodromo Nazionale di Monza            72"
      ]
     },
     "execution_count": 21,
     "metadata": {},
     "output_type": "execute_result"
    }
   ],
   "source": [
    "\n",
    "cir_max = pd.read_sql('select c.name as \"Circuit Name\", count(r.circuitid) as \"Races Hosted\" from circuits c, races r where r.circuitid = c.circuitid group by \"Circuit Name\" order by \"Races Hosted\" desc limit 1;', conn)\n",
    "cir_max"
   ]
  },
  {
   "cell_type": "markdown",
   "metadata": {},
   "source": [
    "4. Piloto con mayor cantidad de puntos en total, cuyo constructor sea de nacionalidad sea American o British"
   ]
  },
  {
   "cell_type": "code",
   "execution_count": 6,
   "metadata": {},
   "outputs": [
    {
     "data": {
      "text/html": [
       "<div>\n",
       "<style scoped>\n",
       "    .dataframe tbody tr th:only-of-type {\n",
       "        vertical-align: middle;\n",
       "    }\n",
       "\n",
       "    .dataframe tbody tr th {\n",
       "        vertical-align: top;\n",
       "    }\n",
       "\n",
       "    .dataframe thead th {\n",
       "        text-align: right;\n",
       "    }\n",
       "</style>\n",
       "<table border=\"1\" class=\"dataframe\">\n",
       "  <thead>\n",
       "    <tr style=\"text-align: right;\">\n",
       "      <th></th>\n",
       "      <th>Name</th>\n",
       "      <th>Constructor Nationality</th>\n",
       "      <th>Total Points</th>\n",
       "    </tr>\n",
       "  </thead>\n",
       "  <tbody>\n",
       "    <tr>\n",
       "      <th>0</th>\n",
       "      <td>Lewis Hamilton</td>\n",
       "      <td>British</td>\n",
       "      <td>6085.5</td>\n",
       "    </tr>\n",
       "  </tbody>\n",
       "</table>\n",
       "</div>"
      ],
      "text/plain": [
       "             Name Constructor Nationality  Total Points\n",
       "0  Lewis Hamilton                 British        6085.5"
      ]
     },
     "execution_count": 6,
     "metadata": {},
     "output_type": "execute_result"
    }
   ],
   "source": [
    "piloto = pd.read_sql('select (\"forename\" || \" \" || \"surname\") as \"Name\", c.nationality as \"Constructor Nationality\", sum(r.points) as \"Total Points\" from drivers d, results r, constructors c  where r.driverId = d.driverId and r.constructorId = c.constructorId and (c.nationality = \"British\" or d.nationality = \"American\") group by \"Name\" order by \"Total Points\" desc limit 1;', conn)\n",
    "piloto"
   ]
  },
  {
   "cell_type": "code",
   "execution_count": null,
   "metadata": {},
   "outputs": [],
   "source": [
    "circuits = pd.read_sql('select * from constructors;', conn)\n",
    "circuits.to_json(orient=\"records\")"
   ]
  },
  {
   "cell_type": "code",
   "execution_count": 23,
   "metadata": {},
   "outputs": [
    {
     "data": {
      "text/html": [
       "<div>\n",
       "<style scoped>\n",
       "    .dataframe tbody tr th:only-of-type {\n",
       "        vertical-align: middle;\n",
       "    }\n",
       "\n",
       "    .dataframe tbody tr th {\n",
       "        vertical-align: top;\n",
       "    }\n",
       "\n",
       "    .dataframe thead th {\n",
       "        text-align: right;\n",
       "    }\n",
       "</style>\n",
       "<table border=\"1\" class=\"dataframe\">\n",
       "  <thead>\n",
       "    <tr style=\"text-align: right;\">\n",
       "      <th></th>\n",
       "      <th>circuitId</th>\n",
       "      <th>circuitRef</th>\n",
       "      <th>name</th>\n",
       "      <th>location</th>\n",
       "      <th>country</th>\n",
       "      <th>lat</th>\n",
       "      <th>lng</th>\n",
       "      <th>alt</th>\n",
       "      <th>url</th>\n",
       "    </tr>\n",
       "  </thead>\n",
       "  <tbody>\n",
       "    <tr>\n",
       "      <th>0</th>\n",
       "      <td>1</td>\n",
       "      <td>albert_park</td>\n",
       "      <td>Albert Park Grand Prix Circuit</td>\n",
       "      <td>Melbourne</td>\n",
       "      <td>Australia</td>\n",
       "      <td>-37.84970</td>\n",
       "      <td>144.96800</td>\n",
       "      <td>10</td>\n",
       "      <td>http://en.wikipedia.org/wiki/Melbourne_Grand_P...</td>\n",
       "    </tr>\n",
       "    <tr>\n",
       "      <th>1</th>\n",
       "      <td>2</td>\n",
       "      <td>sepang</td>\n",
       "      <td>Sepang International Circuit</td>\n",
       "      <td>Kuala Lumpur</td>\n",
       "      <td>Malaysia</td>\n",
       "      <td>2.76083</td>\n",
       "      <td>101.73800</td>\n",
       "      <td>18</td>\n",
       "      <td>http://en.wikipedia.org/wiki/Sepang_Internatio...</td>\n",
       "    </tr>\n",
       "    <tr>\n",
       "      <th>2</th>\n",
       "      <td>3</td>\n",
       "      <td>bahrain</td>\n",
       "      <td>Bahrain International Circuit</td>\n",
       "      <td>Sakhir</td>\n",
       "      <td>Bahrain</td>\n",
       "      <td>26.03250</td>\n",
       "      <td>50.51060</td>\n",
       "      <td>7</td>\n",
       "      <td>http://en.wikipedia.org/wiki/Bahrain_Internati...</td>\n",
       "    </tr>\n",
       "    <tr>\n",
       "      <th>3</th>\n",
       "      <td>4</td>\n",
       "      <td>catalunya</td>\n",
       "      <td>Circuit de Barcelona-Catalunya</td>\n",
       "      <td>Montmeló</td>\n",
       "      <td>Spain</td>\n",
       "      <td>41.57000</td>\n",
       "      <td>2.26111</td>\n",
       "      <td>109</td>\n",
       "      <td>http://en.wikipedia.org/wiki/Circuit_de_Barcel...</td>\n",
       "    </tr>\n",
       "    <tr>\n",
       "      <th>4</th>\n",
       "      <td>5</td>\n",
       "      <td>istanbul</td>\n",
       "      <td>Istanbul Park</td>\n",
       "      <td>Istanbul</td>\n",
       "      <td>Turkey</td>\n",
       "      <td>40.95170</td>\n",
       "      <td>29.40500</td>\n",
       "      <td>130</td>\n",
       "      <td>http://en.wikipedia.org/wiki/Istanbul_Park</td>\n",
       "    </tr>\n",
       "    <tr>\n",
       "      <th>...</th>\n",
       "      <td>...</td>\n",
       "      <td>...</td>\n",
       "      <td>...</td>\n",
       "      <td>...</td>\n",
       "      <td>...</td>\n",
       "      <td>...</td>\n",
       "      <td>...</td>\n",
       "      <td>...</td>\n",
       "      <td>...</td>\n",
       "    </tr>\n",
       "    <tr>\n",
       "      <th>72</th>\n",
       "      <td>73</td>\n",
       "      <td>BAK</td>\n",
       "      <td>Baku City Circuit</td>\n",
       "      <td>Baku</td>\n",
       "      <td>Azerbaijan</td>\n",
       "      <td>40.37250</td>\n",
       "      <td>49.85330</td>\n",
       "      <td>-7</td>\n",
       "      <td>http://en.wikipedia.org/wiki/Baku_City_Circuit</td>\n",
       "    </tr>\n",
       "    <tr>\n",
       "      <th>73</th>\n",
       "      <td>74</td>\n",
       "      <td>hanoi</td>\n",
       "      <td>Hanoi Street Circuit</td>\n",
       "      <td>Hanoi</td>\n",
       "      <td>Vietnam</td>\n",
       "      <td>21.01660</td>\n",
       "      <td>105.76600</td>\n",
       "      <td>9</td>\n",
       "      <td>http://en.wikipedia.org/wiki/Hanoi_Street_Circuit</td>\n",
       "    </tr>\n",
       "    <tr>\n",
       "      <th>74</th>\n",
       "      <td>75</td>\n",
       "      <td>portimao</td>\n",
       "      <td>Autódromo Internacional do Algarve</td>\n",
       "      <td>Portimão</td>\n",
       "      <td>Portugal</td>\n",
       "      <td>37.22700</td>\n",
       "      <td>-8.62670</td>\n",
       "      <td>108</td>\n",
       "      <td>http://en.wikipedia.org/wiki/Algarve_Internati...</td>\n",
       "    </tr>\n",
       "    <tr>\n",
       "      <th>75</th>\n",
       "      <td>76</td>\n",
       "      <td>mugello</td>\n",
       "      <td>Autodromo Internazionale del Mugello</td>\n",
       "      <td>Mugello</td>\n",
       "      <td>Italy</td>\n",
       "      <td>43.99750</td>\n",
       "      <td>11.37190</td>\n",
       "      <td>255</td>\n",
       "      <td>http://en.wikipedia.org/wiki/Mugello_Circuit</td>\n",
       "    </tr>\n",
       "    <tr>\n",
       "      <th>76</th>\n",
       "      <td>77</td>\n",
       "      <td>jeddah</td>\n",
       "      <td>Jeddah Street Circuit</td>\n",
       "      <td>Jeddah</td>\n",
       "      <td>Saudi Arabia</td>\n",
       "      <td>21.54330</td>\n",
       "      <td>39.17280</td>\n",
       "      <td>15</td>\n",
       "      <td>http://en.wikipedia.org/wiki/Jeddah_Street_Cir...</td>\n",
       "    </tr>\n",
       "  </tbody>\n",
       "</table>\n",
       "<p>77 rows × 9 columns</p>\n",
       "</div>"
      ],
      "text/plain": [
       "    circuitId   circuitRef                                  name  \\\n",
       "0           1  albert_park        Albert Park Grand Prix Circuit   \n",
       "1           2       sepang          Sepang International Circuit   \n",
       "2           3      bahrain         Bahrain International Circuit   \n",
       "3           4    catalunya        Circuit de Barcelona-Catalunya   \n",
       "4           5     istanbul                         Istanbul Park   \n",
       "..        ...          ...                                   ...   \n",
       "72         73          BAK                     Baku City Circuit   \n",
       "73         74        hanoi                  Hanoi Street Circuit   \n",
       "74         75     portimao    Autódromo Internacional do Algarve   \n",
       "75         76      mugello  Autodromo Internazionale del Mugello   \n",
       "76         77       jeddah                 Jeddah Street Circuit   \n",
       "\n",
       "        location       country       lat        lng  alt  \\\n",
       "0      Melbourne     Australia -37.84970  144.96800   10   \n",
       "1   Kuala Lumpur      Malaysia   2.76083  101.73800   18   \n",
       "2         Sakhir       Bahrain  26.03250   50.51060    7   \n",
       "3       Montmeló         Spain  41.57000    2.26111  109   \n",
       "4       Istanbul        Turkey  40.95170   29.40500  130   \n",
       "..           ...           ...       ...        ...  ...   \n",
       "72          Baku    Azerbaijan  40.37250   49.85330   -7   \n",
       "73         Hanoi       Vietnam  21.01660  105.76600    9   \n",
       "74      Portimão      Portugal  37.22700   -8.62670  108   \n",
       "75       Mugello         Italy  43.99750   11.37190  255   \n",
       "76        Jeddah  Saudi Arabia  21.54330   39.17280   15   \n",
       "\n",
       "                                                  url  \n",
       "0   http://en.wikipedia.org/wiki/Melbourne_Grand_P...  \n",
       "1   http://en.wikipedia.org/wiki/Sepang_Internatio...  \n",
       "2   http://en.wikipedia.org/wiki/Bahrain_Internati...  \n",
       "3   http://en.wikipedia.org/wiki/Circuit_de_Barcel...  \n",
       "4          http://en.wikipedia.org/wiki/Istanbul_Park  \n",
       "..                                                ...  \n",
       "72     http://en.wikipedia.org/wiki/Baku_City_Circuit  \n",
       "73  http://en.wikipedia.org/wiki/Hanoi_Street_Circuit  \n",
       "74  http://en.wikipedia.org/wiki/Algarve_Internati...  \n",
       "75       http://en.wikipedia.org/wiki/Mugello_Circuit  \n",
       "76  http://en.wikipedia.org/wiki/Jeddah_Street_Cir...  \n",
       "\n",
       "[77 rows x 9 columns]"
      ]
     },
     "execution_count": 23,
     "metadata": {},
     "output_type": "execute_result"
    }
   ],
   "source": [
    "# URL\n",
    "url = 'http://127.0.0.1:8000/circuits'\n",
    "\n",
    "# Get content\n",
    "r = requests.get(url)\n",
    "\n",
    "# Decode JSON response into a Python dict:\n",
    "content = r.json()\n",
    "pd.read_json(content)\n"
   ]
  }
 ],
 "metadata": {
  "kernelspec": {
   "display_name": "Python 3.10.4 64-bit",
   "language": "python",
   "name": "python3"
  },
  "language_info": {
   "codemirror_mode": {
    "name": "ipython",
    "version": 3
   },
   "file_extension": ".py",
   "mimetype": "text/x-python",
   "name": "python",
   "nbconvert_exporter": "python",
   "pygments_lexer": "ipython3",
   "version": "3.10.4"
  },
  "orig_nbformat": 4,
  "vscode": {
   "interpreter": {
    "hash": "916dbcbb3f70747c44a77c7bcd40155683ae19c65e1c03b4aa3499c5328201f1"
   }
  }
 },
 "nbformat": 4,
 "nbformat_minor": 2
}
